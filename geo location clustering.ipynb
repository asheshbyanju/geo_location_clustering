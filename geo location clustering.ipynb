{
 "cells": [
  {
   "cell_type": "code",
   "execution_count": null,
   "metadata": {},
   "outputs": [],
   "source": [
    "'''\n",
    "Steps to initialize project and install dependencies:\n",
    "\n",
    "# sudo pip install pyyaml ipython jupyter ipyparallel pandas boto -U\n",
    "\n",
    "# export PYSPARK_DRIVER_PYTHON=/usr/local/bin/jupyter\n",
    "# export PYSPARK_DRIVER_PYTHON_OPTS=\"notebook --no-browser  --ip=0.0.0.0 --port=8888\"\n",
    "# source ~/.bashrc\n",
    "\n",
    "# python -m pip install --user --upgrade pip\n",
    "# pip3 install geopandas\n",
    "# pip3 install descartes\n",
    "\n",
    "\n",
    "'''\n",
    "\n",
    "\n"
   ]
  },
  {
   "cell_type": "code",
   "execution_count": 2,
   "metadata": {},
   "outputs": [],
   "source": [
    "import re # using regular expression to find different seperators"
   ]
  },
  {
   "cell_type": "code",
   "execution_count": 3,
   "metadata": {},
   "outputs": [],
   "source": [
    "# getting data from s3\n",
    "\n",
    "device_status ='s3://dsci2020finalproject/devicestatus.txt'\n",
    "lat_longs ='s3://dsci2020finalproject/lat_longs.txt'\n",
    "sample_geo ='s3://dsci2020finalproject/sample_geo.txt'"
   ]
  },
  {
   "cell_type": "code",
   "execution_count": 4,
   "metadata": {},
   "outputs": [
    {
     "data": {
      "text/plain": [
       "[['2014-03-15:10:10:20',\n",
       "  'Sorrento F41L',\n",
       "  '8cc3b47e-bd01-4482-b500-28f2342679af',\n",
       "  '7',\n",
       "  '24',\n",
       "  '39',\n",
       "  'enabled',\n",
       "  'disabled',\n",
       "  'connected',\n",
       "  '55',\n",
       "  '67',\n",
       "  '12',\n",
       "  '33.6894754264',\n",
       "  '-117.543308253'],\n",
       " ['2014-03-15:10:10:20',\n",
       "  'MeeToo 1.0',\n",
       "  'ef8c7564-0a1a-4650-a655-c8bbd5f8f943',\n",
       "  '0',\n",
       "  '31',\n",
       "  '63',\n",
       "  '70',\n",
       "  '39',\n",
       "  '27',\n",
       "  'enabled',\n",
       "  'enabled',\n",
       "  'enabled',\n",
       "  '37.4321088904',\n",
       "  '-121.485029632']]"
      ]
     },
     "execution_count": 4,
     "metadata": {},
     "output_type": "execute_result"
    }
   ],
   "source": [
    "# using regular expression to find the seperator\n",
    "import re\n",
    "device_status_log=sc.textFile(device_status)\n",
    "\n",
    "temp_var = device_status_log.map(lambda k: re.split('[,|_/]', k))\n",
    "temp_var.take(2)\n"
   ]
  },
  {
   "cell_type": "code",
   "execution_count": 12,
   "metadata": {},
   "outputs": [
    {
     "name": "stdout",
     "output_type": "stream",
     "text": [
      "+-------------+--------------+-------------------+-------------+--------------------+\n",
      "|     latitude|     longitude|               date|        model|           device ID|\n",
      "+-------------+--------------+-------------------+-------------+--------------------+\n",
      "|33.6894754264|-117.543308253|2014-03-15:10:10:20|Sorrento F41L|8cc3b47e-bd01-448...|\n",
      "|37.4321088904|-121.485029632|2014-03-15:10:10:20|   MeeToo 1.0|ef8c7564-0a1a-465...|\n",
      "|39.4378908349|-120.938978486|2014-03-15:10:10:20|   MeeToo 1.0|23eba027-b95a-472...|\n",
      "+-------------+--------------+-------------------+-------------+--------------------+\n",
      "only showing top 3 rows\n",
      "\n"
     ]
    }
   ],
   "source": [
    "# Load data into dataframe\n",
    "\n",
    "from pyspark.sql.types import *\n",
    "from pyspark.sql.functions import * # importing col\n",
    "\n",
    "log_df=temp_var.toDF()\n",
    "\n",
    "device_status_df = log_df.select(col(\"_13\").alias(\"latitude\"), col(\"_14\").alias(\"longitude\"), col(\"_1\").alias(\"date\"), col(\"_2\").alias(\"model\"), col(\"_3\").alias(\"device ID\"))\n",
    "\n",
    "# device_status_df = device_status_df.withColumn(\"date\", unix_timestamp(device_status_df[\"date\"], \"yyyy-mm-dd:HH:mm:ss\").cast('timestamp'))\n",
    "device_status_df = device_status_df.withColumn(\"latitude\", device_status_df[\"latitude\"].cast('double'))\n",
    "device_status_df = device_status_df.withColumn(\"longitude\", device_status_df[\"longitude\"].cast('double'))\n",
    "\n",
    "device_status_df.show(3)\n"
   ]
  },
  {
   "cell_type": "code",
   "execution_count": 13,
   "metadata": {},
   "outputs": [
    {
     "name": "stdout",
     "output_type": "stream",
     "text": [
      "+-------------+--------------+-------------------+--------------------+--------------------+\n",
      "|     latitude|     longitude|               date|               model|           device ID|\n",
      "+-------------+--------------+-------------------+--------------------+--------------------+\n",
      "|33.6894754264|-117.543308253|2014-03-15:10:10:20|       Sorrento F41L|8cc3b47e-bd01-448...|\n",
      "|37.4321088904|-121.485029632|2014-03-15:10:10:20|          MeeToo 1.0|ef8c7564-0a1a-465...|\n",
      "|39.4378908349|-120.938978486|2014-03-15:10:10:20|          MeeToo 1.0|23eba027-b95a-472...|\n",
      "|39.3635186767|-119.400334708|2014-03-15:10:10:20|       Sorrento F41L|707daba1-5640-4d6...|\n",
      "|33.1913581092|-116.448242643|2014-03-15:10:10:20|Ronin Novelty Note 1|db66fe81-aa55-43b...|\n",
      "|33.8343543748|-117.330000857|2014-03-15:10:10:20|       Sorrento F41L|ffa18088-69a0-433...|\n",
      "|37.3803954321|-121.840756755|2014-03-15:10:10:20|       Sorrento F33L|66d678e6-9c87-48d...|\n",
      "|34.1841062345|  -117.9435329|2014-03-15:10:10:20|          MeeToo 4.1|673f7e4b-d52b-44f...|\n",
      "|32.2850556785|-111.819583734|2014-03-15:10:10:20|Ronin Novelty Note 2|a678ccc3-b0d2-452...|\n",
      "|45.2400522984|-122.377467861|2014-03-15:10:10:20|       Sorrento F41L|86bef6ae-2f1c-42e...|\n",
      "|37.9248961741|-122.206868167|2014-03-15:10:10:20|            iFruit 3|27178d24-3a61-42f...|\n",
      "|38.1653163975|-122.151608378|2014-03-15:10:10:20|        Titanic 2400|b4a15931-9a69-469...|\n",
      "| 33.323126641|-116.472234745|2014-03-15:10:10:20|            Ronin S1|e75dc777-b531-4db...|\n",
      "|33.1774985363|-116.889226299|2014-03-15:10:10:20|Ronin Novelty Note 3|d4ebd9ae-4dad-4fb...|\n",
      "|32.2083493316|-111.434102713|2014-03-15:10:10:20|Ronin Novelty Note 1|b954db08-1f97-431...|\n",
      "|34.0487620041|-111.928871717|2014-03-15:10:10:20|          MeeToo 1.0|16085fbf-cda5-448...|\n",
      "|37.9031053656|-121.561451342|2014-03-15:10:10:20|            iFruit 1|6474caf1-7bbf-459...|\n",
      "| 36.032967794|-118.970108886|2014-03-15:10:10:20|          MeeToo 5.0|668e6f06-a8aa-4be...|\n",
      "|45.0400810371|-117.858004521|2014-03-15:10:10:20|Ronin Novelty Note 1|6d195272-8dba-42d...|\n",
      "|35.2338863976|  -114.3057523|2014-03-15:10:10:20|       Sorrento F10L|d228cdab-8b35-473...|\n",
      "+-------------+--------------+-------------------+--------------------+--------------------+\n",
      "only showing top 20 rows\n",
      "\n"
     ]
    }
   ],
   "source": [
    "# filter latitude and longitude with 0 values\n",
    "\n",
    "device_status_df = device_status_df.filter(\"latitude != '0' or longitude != '0' \")\n",
    "\n",
    "device_status_df.show()\n"
   ]
  },
  {
   "cell_type": "code",
   "execution_count": 7,
   "metadata": {},
   "outputs": [],
   "source": [
    "# need to re look\n",
    "\n",
    "device_status_df = device_status_df.withColumn(\"manufacturer\", split(col(\"model\"), \" \").getItem(0)).withColumn(\"model\", split(col(\"model\"), \" \").getItem(1))\n"
   ]
  },
  {
   "cell_type": "code",
   "execution_count": 8,
   "metadata": {},
   "outputs": [],
   "source": [
    "# device_status_df.write.option(\"header\",\"true\").text(\"s3a://dsci2020finalproject/updated_device_status\")\n",
    " \n",
    "    \n",
    "device_status_df.coalesce(1).write.mode(\"overwrite\").option(\"sep\", \",\").option(\"header\",\"true\").option(\"encoding\", \"UTF-8\").csv(\"s3a://dsci2020finalproject/updated_device_status\")"
   ]
  },
  {
   "cell_type": "code",
   "execution_count": 9,
   "metadata": {},
   "outputs": [
    {
     "name": "stdout",
     "output_type": "stream",
     "text": [
      "+-------------+--------------+-------------------+-------+--------------------+------------+\n",
      "|     latitude|     longitude|               date|  model|           device ID|manufacturer|\n",
      "+-------------+--------------+-------------------+-------+--------------------+------------+\n",
      "|33.6894754264|-117.543308253|2014-03-15:10:10:20|   F41L|8cc3b47e-bd01-448...|    Sorrento|\n",
      "|37.4321088904|-121.485029632|2014-03-15:10:10:20|    1.0|ef8c7564-0a1a-465...|      MeeToo|\n",
      "|39.4378908349|-120.938978486|2014-03-15:10:10:20|    1.0|23eba027-b95a-472...|      MeeToo|\n",
      "|39.3635186767|-119.400334708|2014-03-15:10:10:20|   F41L|707daba1-5640-4d6...|    Sorrento|\n",
      "|33.1913581092|-116.448242643|2014-03-15:10:10:20|Novelty|db66fe81-aa55-43b...|       Ronin|\n",
      "|33.8343543748|-117.330000857|2014-03-15:10:10:20|   F41L|ffa18088-69a0-433...|    Sorrento|\n",
      "|37.3803954321|-121.840756755|2014-03-15:10:10:20|   F33L|66d678e6-9c87-48d...|    Sorrento|\n",
      "|34.1841062345|  -117.9435329|2014-03-15:10:10:20|    4.1|673f7e4b-d52b-44f...|      MeeToo|\n",
      "|32.2850556785|-111.819583734|2014-03-15:10:10:20|Novelty|a678ccc3-b0d2-452...|       Ronin|\n",
      "|45.2400522984|-122.377467861|2014-03-15:10:10:20|   F41L|86bef6ae-2f1c-42e...|    Sorrento|\n",
      "|37.9248961741|-122.206868167|2014-03-15:10:10:20|      3|27178d24-3a61-42f...|      iFruit|\n",
      "|38.1653163975|-122.151608378|2014-03-15:10:10:20|   2400|b4a15931-9a69-469...|     Titanic|\n",
      "| 33.323126641|-116.472234745|2014-03-15:10:10:20|     S1|e75dc777-b531-4db...|       Ronin|\n",
      "|33.1774985363|-116.889226299|2014-03-15:10:10:20|Novelty|d4ebd9ae-4dad-4fb...|       Ronin|\n",
      "|32.2083493316|-111.434102713|2014-03-15:10:10:20|Novelty|b954db08-1f97-431...|       Ronin|\n",
      "|34.0487620041|-111.928871717|2014-03-15:10:10:20|    1.0|16085fbf-cda5-448...|      MeeToo|\n",
      "|37.9031053656|-121.561451342|2014-03-15:10:10:20|      1|6474caf1-7bbf-459...|      iFruit|\n",
      "| 36.032967794|-118.970108886|2014-03-15:10:10:20|    5.0|668e6f06-a8aa-4be...|      MeeToo|\n",
      "|45.0400810371|-117.858004521|2014-03-15:10:10:20|Novelty|6d195272-8dba-42d...|       Ronin|\n",
      "|35.2338863976|  -114.3057523|2014-03-15:10:10:20|   F10L|d228cdab-8b35-473...|    Sorrento|\n",
      "+-------------+--------------+-------------------+-------+--------------------+------------+\n",
      "only showing top 20 rows\n",
      "\n"
     ]
    }
   ],
   "source": [
    "device_status_df.show()\n",
    "\n",
    "# zip(device_status_df['longitude'], device_status_df['latitude'])"
   ]
  },
  {
   "cell_type": "code",
   "execution_count": 10,
   "metadata": {},
   "outputs": [
    {
     "name": "stdout",
     "output_type": "stream",
     "text": [
      "        latitude       longitude                 date    model  \\\n",
      "0  33.6894754264  -117.543308253  2014-03-15:10:10:20     F41L   \n",
      "1  37.4321088904  -121.485029632  2014-03-15:10:10:20      1.0   \n",
      "2  39.4378908349  -120.938978486  2014-03-15:10:10:20      1.0   \n",
      "3  39.3635186767  -119.400334708  2014-03-15:10:10:20     F41L   \n",
      "4  33.1913581092  -116.448242643  2014-03-15:10:10:20  Novelty   \n",
      "\n",
      "                              device ID manufacturer  \\\n",
      "0  8cc3b47e-bd01-4482-b500-28f2342679af     Sorrento   \n",
      "1  ef8c7564-0a1a-4650-a655-c8bbd5f8f943       MeeToo   \n",
      "2  23eba027-b95a-4729-9a4b-a3cca51c5548       MeeToo   \n",
      "3  707daba1-5640-4d60-a6d9-1d6fa0645be0     Sorrento   \n",
      "4  db66fe81-aa55-43b4-9418-fc6e7a00f891        Ronin   \n",
      "\n",
      "                      geometry  \n",
      "0  POINT (-117.54331 33.68948)  \n",
      "1  POINT (-121.48503 37.43211)  \n",
      "2  POINT (-120.93898 39.43789)  \n",
      "3  POINT (-119.40033 39.36352)  \n",
      "4  POINT (-116.44824 33.19136)  \n"
     ]
    }
   ],
   "source": [
    "import pandas as pd\n",
    "import geopandas\n",
    "import matplotlib.pyplot as plt\n",
    "\n",
    "pd_df = device_status_df.toPandas()\n",
    "\n",
    "gdf = geopandas.GeoDataFrame(\n",
    "    pd_df, geometry=geopandas.points_from_xy(pd_df.longitude, pd_df.latitude))\n",
    "\n",
    "print(gdf.head())"
   ]
  },
  {
   "cell_type": "code",
   "execution_count": 19,
   "metadata": {},
   "outputs": [
    {
     "name": "stdout",
     "output_type": "stream",
     "text": [
      "        latitude       longitude                 date    model  \\\n",
      "0  33.6894754264  -117.543308253  2014-03-15:10:10:20     F41L   \n",
      "1  37.4321088904  -121.485029632  2014-03-15:10:10:20      1.0   \n",
      "2  39.4378908349  -120.938978486  2014-03-15:10:10:20      1.0   \n",
      "3  39.3635186767  -119.400334708  2014-03-15:10:10:20     F41L   \n",
      "4  33.1913581092  -116.448242643  2014-03-15:10:10:20  Novelty   \n",
      "\n",
      "                              device ID manufacturer  \\\n",
      "0  8cc3b47e-bd01-4482-b500-28f2342679af     Sorrento   \n",
      "1  ef8c7564-0a1a-4650-a655-c8bbd5f8f943       MeeToo   \n",
      "2  23eba027-b95a-4729-9a4b-a3cca51c5548       MeeToo   \n",
      "3  707daba1-5640-4d60-a6d9-1d6fa0645be0     Sorrento   \n",
      "4  db66fe81-aa55-43b4-9418-fc6e7a00f891        Ronin   \n",
      "\n",
      "                      geometry  \n",
      "0  POINT (-117.54331 33.68948)  \n",
      "1  POINT (-121.48503 37.43211)  \n",
      "2  POINT (-120.93898 39.43789)  \n",
      "3  POINT (-119.40033 39.36352)  \n",
      "4  POINT (-116.44824 33.19136)  \n"
     ]
    }
   ],
   "source": []
  },
  {
   "cell_type": "code",
   "execution_count": 30,
   "metadata": {},
   "outputs": [
    {
     "data": {
      "image/png": "[encoded data removed]",
      "text/plain": [
       "<Figure size 720x432 with 1 Axes>"
      ]
     },
     "metadata": {
      "needs_background": "light"
     },
     "output_type": "display_data"
    }
   ],
   "source": [
    "world = geopandas.read_file(geopandas.datasets.get_path('naturalearth_lowres'))\n",
    "\n",
    "# world.head()\n",
    "\n",
    "# We restrict to South America.\n",
    "ax = world[world.iso_a3 == 'USA'].plot(figsize=(10, 6),\n",
    "    color='white', edgecolor='black')\n",
    "\n",
    "# We can now plot our ``GeoDataFrame``.\n",
    "gdf.plot(ax=ax, marker='o', color='red', markersize=15)\n",
    "\n",
    "plt.show()"
   ]
  },
  {
   "cell_type": "code",
   "execution_count": 2,
   "metadata": {},
   "outputs": [],
   "source": [
    "# Step 2: Get and Visualize synthetic location data\n"
   ]
  },
  {
   "cell_type": "code",
   "execution_count": 34,
   "metadata": {},
   "outputs": [
    {
     "data": {
      "text/plain": [
       "[['37.77253945', '-77.49954987', '1'],\n",
       " ['42.09013298', '-87.68915558', '2'],\n",
       " ['39.56341754', '-75.58753204', '3']]"
      ]
     },
     "execution_count": 34,
     "metadata": {},
     "output_type": "execute_result"
    }
   ],
   "source": [
    "# Loading sample geo data\n",
    "sample_geo_log=sc.textFile(sample_geo)\n",
    "header = sample_geo_log.first()\n",
    "\n",
    "sample_geo_log = sample_geo_log.filter(lambda line: line != header)\n",
    "\n",
    "# sample_geo_log =  sample_geo_log.filter(lambda line: line != [''])\n",
    "\n",
    "temp_var1 = sample_geo_log.map(lambda k:k.split('\\t'))\n",
    "temp_var1 = temp_var1.filter(lambda line: line != [''])\n",
    "temp_var1.take(3)"
   ]
  },
  {
   "cell_type": "code",
   "execution_count": 35,
   "metadata": {},
   "outputs": [
    {
     "name": "stdout",
     "output_type": "stream",
     "text": [
      "+-----------+------------+----------+\n",
      "|   Latitude|   Longitude|LocationID|\n",
      "+-----------+------------+----------+\n",
      "|37.77253945|-77.49954987|         1|\n",
      "|42.09013298|-87.68915558|         2|\n",
      "|39.56341754|-75.58753204|         3|\n",
      "|39.45302347|-87.69374084|         4|\n",
      "| 38.9537989|-77.01656342|         5|\n",
      "|39.90031211|-75.74486542|         6|\n",
      "|36.24009843|-115.1586914|         7|\n",
      "|26.11330818|-80.09202576|         8|\n",
      "|34.27036086|-118.3162918|         9|\n",
      "|38.81664153|-97.62573242|        10|\n",
      "|33.67614531|-118.1892776|        11|\n",
      "|28.74612042|-81.44248199|        12|\n",
      "|38.35152702|-81.69611359|        13|\n",
      "|39.57271402|-86.35784912|        14|\n",
      "|30.19543489|-81.45937347|        15|\n",
      "|40.49826888|-74.16846466|        16|\n",
      "|34.05601838|-117.9957428|        17|\n",
      "|38.14426403|-122.5368347|        18|\n",
      "|38.92940099|-94.39599609|        19|\n",
      "|39.51639552|-77.81656647|        20|\n",
      "+-----------+------------+----------+\n",
      "only showing top 20 rows\n",
      "\n"
     ]
    }
   ],
   "source": [
    "log_df1=temp_var1.toDF(header.split(\"\\t\"))\n",
    "log_df1.show()"
   ]
  },
  {
   "cell_type": "code",
   "execution_count": 37,
   "metadata": {},
   "outputs": [
    {
     "name": "stdout",
     "output_type": "stream",
     "text": [
      "      Latitude     Longitude LocationID                    geometry\n",
      "0  37.77253945  -77.49954987          1  POINT (-77.49955 37.77254)\n",
      "1  42.09013298  -87.68915558          2  POINT (-87.68916 42.09013)\n",
      "2  39.56341754  -75.58753204          3  POINT (-75.58753 39.56342)\n",
      "3  39.45302347  -87.69374084          4  POINT (-87.69374 39.45302)\n",
      "4   38.9537989  -77.01656342          5  POINT (-77.01656 38.95380)\n"
     ]
    }
   ],
   "source": [
    "df_sample_geo = log_df1.toPandas()\n",
    "\n",
    "gdf = geopandas.GeoDataFrame(\n",
    "    df_sample_geo, geometry=geopandas.points_from_xy(df_sample_geo.Longitude, df_sample_geo.Latitude))\n",
    "\n",
    "print(gdf.head())"
   ]
  },
  {
   "cell_type": "code",
   "execution_count": 38,
   "metadata": {},
   "outputs": [
    {
     "data": {
      "image/png": "[encoded data removed]",
      "text/plain": [
       "<Figure size 720x432 with 1 Axes>"
      ]
     },
     "metadata": {
      "needs_background": "light"
     },
     "output_type": "display_data"
    }
   ],
   "source": [
    "world = geopandas.read_file(geopandas.datasets.get_path('naturalearth_lowres'))\n",
    "\n",
    "# world.head()\n",
    "\n",
    "# We restrict to South America.\n",
    "ax = world[world.iso_a3 == 'USA'].plot(figsize=(10, 6),\n",
    "    color='white', edgecolor='black')\n",
    "\n",
    "# We can now plot our ``GeoDataFrame``.\n",
    "gdf.plot(ax=ax, marker='o', color='red', markersize=15)\n",
    "\n",
    "plt.show()"
   ]
  },
  {
   "cell_type": "code",
   "execution_count": 39,
   "metadata": {},
   "outputs": [
    {
     "data": {
      "text/plain": [
       "[['36.7', '3.216666666666667', '<http://dbpedia.org/resource/Algeria>'],\n",
       " ['42.5', '1.5166666666666666', '<http://dbpedia.org/resource/Andorra>'],\n",
       " ['12.516666666666667',\n",
       "  '-70.03333333333333',\n",
       "  '<http://dbpedia.org/resource/Aruba>']]"
      ]
     },
     "execution_count": 39,
     "metadata": {},
     "output_type": "execute_result"
    }
   ],
   "source": [
    "# Loading lat_longs data\n",
    "lat_longs_log=sc.textFile(lat_longs)\n",
    "\n",
    "temp_var1 = lat_longs_log.map(lambda k:k.split())\n",
    "temp_var1.take(3)"
   ]
  },
  {
   "cell_type": "code",
   "execution_count": 40,
   "metadata": {},
   "outputs": [
    {
     "name": "stdout",
     "output_type": "stream",
     "text": [
      "+------------------+------------------+--------------------+\n",
      "|                _1|                _2|                  _3|\n",
      "+------------------+------------------+--------------------+\n",
      "|              36.7| 3.216666666666667|<http://dbpedia.o...|\n",
      "|              42.5|1.5166666666666666|<http://dbpedia.o...|\n",
      "|12.516666666666667|-70.03333333333333|<http://dbpedia.o...|\n",
      "|-8.833333333333334|13.333333333333334|<http://dbpedia.o...|\n",
      "|41.333333333333336|              19.8|<http://dbpedia.o...|\n",
      "| 34.53333333333333| 69.13333333333334|<http://dbpedia.o...|\n",
      "|40.416666666666664|49.833333333333336|<http://dbpedia.o...|\n",
      "| 39.93333333333333| 32.86666666666667|<http://dbpedia.o...|\n",
      "| 52.36666666666667|               4.9|<http://dbpedia.o...|\n",
      "|             50.46|              2.13|<http://dbpedia.o...|\n",
      "|17.116666666666667|            -61.85|<http://dbpedia.o...|\n",
      "| 57.04638888888889| 9.919166666666667|<http://dbpedia.o...|\n",
      "|             56.15|10.216666666666667|<http://dbpedia.o...|\n",
      "|            34.929|           138.601|<http://dbpedia.o...|\n",
      "| 42.03472222222222|            -93.62|<http://dbpedia.o...|\n",
      "| 33.41972222222222|           43.3125|<http://dbpedia.o...|\n",
      "|16.863611111111112|          -99.8825|<http://dbpedia.o...|\n",
      "| 50.78333333333333| 6.083333333333333|<http://dbpedia.o...|\n",
      "|           57.1526|             -2.11|<http://dbpedia.o...|\n",
      "|36.766666666666666| 3.216666666666667|<http://dbpedia.o...|\n",
      "+------------------+------------------+--------------------+\n",
      "only showing top 20 rows\n",
      "\n"
     ]
    }
   ],
   "source": [
    "log_df2=temp_var1.toDF()\n",
    "log_df2.show()"
   ]
  },
  {
   "cell_type": "code",
   "execution_count": 42,
   "metadata": {},
   "outputs": [
    {
     "name": "stdout",
     "output_type": "stream",
     "text": [
      "                   _1                  _2  \\\n",
      "0                36.7   3.216666666666667   \n",
      "1                42.5  1.5166666666666666   \n",
      "2  12.516666666666667  -70.03333333333333   \n",
      "3  -8.833333333333334  13.333333333333334   \n",
      "4  41.333333333333336                19.8   \n",
      "\n",
      "                                      _3                    geometry  \n",
      "0  <http://dbpedia.org/resource/Algeria>    POINT (36.70000 3.21667)  \n",
      "1  <http://dbpedia.org/resource/Andorra>    POINT (42.50000 1.51667)  \n",
      "2    <http://dbpedia.org/resource/Aruba>  POINT (12.51667 -70.03333)  \n",
      "3   <http://dbpedia.org/resource/Angola>   POINT (-8.83333 13.33333)  \n",
      "4  <http://dbpedia.org/resource/Albania>   POINT (41.33333 19.80000)  \n"
     ]
    }
   ],
   "source": [
    "df_lat_longs = log_df2.toPandas()\n",
    "\n",
    "gdf = geopandas.GeoDataFrame(\n",
    "    df_lat_longs, geometry=geopandas.points_from_xy(df_lat_longs._1, df_lat_longs._2))\n",
    "\n",
    "print(gdf.head())"
   ]
  },
  {
   "cell_type": "code",
   "execution_count": 1,
   "metadata": {},
   "outputs": [
    {
     "ename": "NameError",
     "evalue": "name 'geopandas' is not defined",
     "output_type": "error",
     "traceback": [
      "\u001b[0;31m---------------------------------------------------------------------------\u001b[0m",
      "\u001b[0;31mNameError\u001b[0m                                 Traceback (most recent call last)",
      "\u001b[0;32m<ipython-input-1-518a26663084>\u001b[0m in \u001b[0;36m<module>\u001b[0;34m\u001b[0m\n\u001b[0;32m----> 1\u001b[0;31m \u001b[0mworld\u001b[0m \u001b[0;34m=\u001b[0m \u001b[0mgeopandas\u001b[0m\u001b[0;34m.\u001b[0m\u001b[0mread_file\u001b[0m\u001b[0;34m(\u001b[0m\u001b[0mgeopandas\u001b[0m\u001b[0;34m.\u001b[0m\u001b[0mdatasets\u001b[0m\u001b[0;34m.\u001b[0m\u001b[0mget_path\u001b[0m\u001b[0;34m(\u001b[0m\u001b[0;34m'naturalearth_lowres'\u001b[0m\u001b[0;34m)\u001b[0m\u001b[0;34m)\u001b[0m\u001b[0;34m\u001b[0m\u001b[0;34m\u001b[0m\u001b[0m\n\u001b[0m\u001b[1;32m      2\u001b[0m \u001b[0;34m\u001b[0m\u001b[0m\n\u001b[1;32m      3\u001b[0m \u001b[0;31m# world.head()\u001b[0m\u001b[0;34m\u001b[0m\u001b[0;34m\u001b[0m\u001b[0;34m\u001b[0m\u001b[0m\n\u001b[1;32m      4\u001b[0m \u001b[0;34m\u001b[0m\u001b[0m\n\u001b[1;32m      5\u001b[0m \u001b[0;31m# We restrict to South America.\u001b[0m\u001b[0;34m\u001b[0m\u001b[0;34m\u001b[0m\u001b[0;34m\u001b[0m\u001b[0m\n",
      "\u001b[0;31mNameError\u001b[0m: name 'geopandas' is not defined"
     ]
    }
   ],
   "source": [
    "world = geopandas.read_file(geopandas.datasets.get_path('naturalearth_lowres'))\n",
    "\n",
    "# world.head()\n",
    "\n",
    "# We restrict to South America.\n",
    "ax = world.plot(figsize=(20, 12), edgecolor='black')\n",
    "\n",
    "# We can now plot our ``GeoDataFrame``.\n",
    "gdf.plot(ax=ax, marker='o', color='red', markersize=15)\n",
    "\n",
    "plt.show()"
   ]
  },
  {
   "cell_type": "code",
   "execution_count": null,
   "metadata": {},
   "outputs": [],
   "source": []
  }
 ],
 "metadata": {
  "kernelspec": {
   "display_name": "Python 3",
   "language": "python",
   "name": "python3"
  },
  "language_info": {
   "codemirror_mode": {
    "name": "ipython",
    "version": 3
   },
   "file_extension": ".py",
   "mimetype": "text/x-python",
   "name": "python",
   "nbconvert_exporter": "python",
   "pygments_lexer": "ipython3",
   "version": "3.7.9"
  }
 },
 "nbformat": 4,
 "nbformat_minor": 4
}
